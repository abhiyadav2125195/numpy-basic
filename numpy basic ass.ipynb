{
 "cells": [
  {
   "cell_type": "markdown",
   "id": "280457d9-cc70-473c-9316-0f0da55be70c",
   "metadata": {},
   "source": [
    "# Q1. Is there any difference in the data type of variables list_ and array_list? If there is then write a code to print the data types of both the variables."
   ]
  },
  {
   "cell_type": "code",
   "execution_count": 2,
   "id": "ec32b8d9-51af-4bd0-9255-55ef6886f82b",
   "metadata": {},
   "outputs": [],
   "source": [
    "import numpy as np\n",
    "list = [1,2,3,4,5]\n",
    "array_list = np.array([1,2,3,4,5])"
   ]
  },
  {
   "cell_type": "code",
   "execution_count": 5,
   "id": "5cc608e6-9029-4e96-bff3-636e6c283e90",
   "metadata": {},
   "outputs": [
    {
     "name": "stdout",
     "output_type": "stream",
     "text": [
      "<class 'list'>\n",
      "<class 'numpy.ndarray'>\n"
     ]
    }
   ],
   "source": [
    "print(type(list))\n",
    "print(type(array_list))"
   ]
  },
  {
   "cell_type": "markdown",
   "id": "1cba8879-d6c5-4461-8f5b-fd3dc7352693",
   "metadata": {},
   "source": [
    "# Q2. Write a code to print the data type of each and every element of both the variables list_ and arra_list."
   ]
  },
  {
   "cell_type": "code",
   "execution_count": 16,
   "id": "8b4092b4-b068-41d7-b7be-ed09e8ef0bb3",
   "metadata": {},
   "outputs": [
    {
     "name": "stdout",
     "output_type": "stream",
     "text": [
      "list type <class 'int'>\n",
      "list type <class 'int'>\n",
      "list type <class 'int'>\n",
      "list type <class 'int'>\n",
      "list type <class 'int'>\n",
      "array_list type <class 'numpy.int64'>\n",
      "array_list type <class 'numpy.int64'>\n",
      "array_list type <class 'numpy.int64'>\n",
      "array_list type <class 'numpy.int64'>\n",
      "array_list type <class 'numpy.int64'>\n"
     ]
    }
   ],
   "source": [
    "list = [1,2,3,4,5]\n",
    "array_list = np.array([1,2,3,4,5])\n",
    "for i in list:\n",
    "    print(\"list type\",type(i))\n",
    "    \n",
    "for i in array_list :\n",
    "    print(\"array_list type\",type(i))\n"
   ]
  },
  {
   "cell_type": "markdown",
   "id": "007d0e62-b875-4046-bbf4-a92377f21ef8",
   "metadata": {},
   "source": [
    "# Q3. Considering the following changes in the variable, array_list:\n",
    "# array_list = np.array(object = list_, dtype = int)\n",
    "# Will there be any difference in the data type of the elements present in both the variables, list_ and\n",
    "# arra_list? If so then print the data types of each and every element present in both the variables, list_\n",
    "# and arra_list.\n"
   ]
  },
  {
   "cell_type": "code",
   "execution_count": 25,
   "id": "377dc668-02ee-4f18-9a1b-5f7888893901",
   "metadata": {},
   "outputs": [],
   "source": [
    "list = [1,2,3,4,5]\n",
    "array_list = np.array(object = list_, dtype = int)"
   ]
  },
  {
   "cell_type": "code",
   "execution_count": 26,
   "id": "8b4a24d8-4c6e-455d-8450-e6097c6213ce",
   "metadata": {},
   "outputs": [
    {
     "name": "stdout",
     "output_type": "stream",
     "text": [
      "<class 'int'>\n",
      "<class 'int'>\n",
      "<class 'int'>\n",
      "<class 'int'>\n",
      "<class 'int'>\n",
      "<class 'numpy.int64'>\n",
      "<class 'numpy.int64'>\n",
      "<class 'numpy.int64'>\n",
      "<class 'numpy.int64'>\n",
      "<class 'numpy.int64'>\n"
     ]
    }
   ],
   "source": [
    "for i in list:\n",
    "    print(type(i))\n",
    "\n",
    "for i in array_list:\n",
    "    print(type(i))\n"
   ]
  },
  {
   "cell_type": "markdown",
   "id": "934a3a90-8bf9-4da9-a833-6af80da43d86",
   "metadata": {},
   "source": [
    "# Q4. Write a code to find the following characteristics of variable, num_array:\n",
    "# (i) shape\n",
    "# (ii) size\n",
    "# num_list = [ [ 1 , 2 , 3 ] , [ 4 , 5 , 6 ] ]\n",
    "# num_array = np.array(object = num_list)"
   ]
  },
  {
   "cell_type": "code",
   "execution_count": 27,
   "id": "a4692576-df2e-4ec3-9af5-a80706a908dd",
   "metadata": {},
   "outputs": [],
   "source": [
    "num_list = [ [ 1 , 2 , 3 ] , [ 4 , 5 , 6 ] ]\n",
    "num_array = np.array(object = num_list)"
   ]
  },
  {
   "cell_type": "code",
   "execution_count": 29,
   "id": "f7ca9c9d-68e5-4dd8-9e90-5952d7584cf9",
   "metadata": {},
   "outputs": [
    {
     "name": "stdout",
     "output_type": "stream",
     "text": [
      "shape of num_array (2, 3)\n",
      "size of num_array 6\n"
     ]
    }
   ],
   "source": [
    "shape = num_array.shape\n",
    "size = num_array.size\n",
    "\n",
    "print(\"shape of num_array\",shape)\n",
    "print(\"size of num_array\",size)"
   ]
  },
  {
   "cell_type": "markdown",
   "id": "bc5ae456-f383-41b4-9938-7188462dfc9d",
   "metadata": {},
   "source": [
    "# Q5. Write a code to create numpy array of 3*3 matrix containing zeros only, using a numpy array creation function."
   ]
  },
  {
   "cell_type": "code",
   "execution_count": 40,
   "id": "9959693c-2d18-48fd-93df-80023e9427ee",
   "metadata": {},
   "outputs": [],
   "source": [
    "zero_matrix = np.zeros([3,3])"
   ]
  },
  {
   "cell_type": "code",
   "execution_count": 41,
   "id": "dec8afac-f018-48d3-a9e5-ac5a35f10fa6",
   "metadata": {},
   "outputs": [
    {
     "name": "stdout",
     "output_type": "stream",
     "text": [
      "[[0. 0. 0.]\n",
      " [0. 0. 0.]\n",
      " [0. 0. 0.]]\n"
     ]
    }
   ],
   "source": [
    "print(zero_matrix)"
   ]
  },
  {
   "cell_type": "markdown",
   "id": "19743a6f-e09d-4298-a992-161bf29fda15",
   "metadata": {},
   "source": [
    "# Q6. Create an identity matrix of shape (5,5) using numpy functions?"
   ]
  },
  {
   "cell_type": "code",
   "execution_count": null,
   "id": "2f54c414-d4c0-4f38-a6ca-11ffda58f3df",
   "metadata": {},
   "outputs": [],
   "source": [
    "matrix = np."
   ]
  }
 ],
 "metadata": {
  "kernelspec": {
   "display_name": "Python 3 (ipykernel)",
   "language": "python",
   "name": "python3"
  },
  "language_info": {
   "codemirror_mode": {
    "name": "ipython",
    "version": 3
   },
   "file_extension": ".py",
   "mimetype": "text/x-python",
   "name": "python",
   "nbconvert_exporter": "python",
   "pygments_lexer": "ipython3",
   "version": "3.10.8"
  }
 },
 "nbformat": 4,
 "nbformat_minor": 5
}
